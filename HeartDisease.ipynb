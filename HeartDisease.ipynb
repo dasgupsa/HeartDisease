{
  "nbformat": 4,
  "nbformat_minor": 0,
  "metadata": {
    "colab": {
      "name": "HeartDisease.ipynb",
      "version": "0.3.2",
      "provenance": [],
      "collapsed_sections": [],
      "toc_visible": true,
      "include_colab_link": true
    },
    "kernelspec": {
      "name": "python3",
      "display_name": "Python 3"
    },
    "accelerator": "GPU"
  },
  "cells": [
    {
      "cell_type": "markdown",
      "metadata": {
        "id": "view-in-github",
        "colab_type": "text"
      },
      "source": [
        "<a href=\"https://colab.research.google.com/github/dasgupsa/HeartDisease/blob/master/HeartDisease.ipynb\" target=\"_parent\"><img src=\"https://colab.research.google.com/assets/colab-badge.svg\" alt=\"Open In Colab\"/></a>"
      ]
    },
    {
      "cell_type": "markdown",
      "metadata": {
        "id": "lAG1YMglKhT9",
        "colab_type": "text"
      },
      "source": [
        "##Heart Disease Prediction"
      ]
    },
    {
      "cell_type": "markdown",
      "metadata": {
        "id": "3yE_CCUyq6_B",
        "colab_type": "text"
      },
      "source": [
        "This is my personal attempt at trying to utilise Machine Learning and Deep Learning techniques on  a real world dataset. This project is about predicting Heart Diseases in people using Machine Learning algorithms.\n",
        "\n",
        "This is a binary classification problem and several different machine learning techniques will be used to assess the best performance.\n",
        "\n",
        "The [dataset](https://www.kaggle.com/ronitf/heart-disease-uci) has been obtained from Kaggle but the original data can be found [here](https://archive.ics.uci.edu/ml/datasets/Heart+Disease).\n",
        "\n",
        "The main aim is to try and understand the different techniques applied a small and simple dataset. By understanding these techniques fully, they can be applied with confidence to more complex problems.\n",
        "\n",
        "\n",
        "\n",
        "\n",
        "\n",
        "\n",
        "\n",
        "\n"
      ]
    },
    {
      "cell_type": "markdown",
      "metadata": {
        "id": "CthHs7DJLQdX",
        "colab_type": "text"
      },
      "source": [
        "### Key Terms\n",
        "\n",
        "There are some terms, which will be used below and I wanted to explain their meaning to avoid ambiguity.\n",
        "\n",
        "- Supervised Learning: we have input variables (x) and an output variable (y). We need to find an algorithm to learn the mapping function from the input to the output.\n",
        "- Unsupervised Learning: there is only input data (x) and no corresponding output variable (y). The aim is to model the underlying structure or distribution in the data in order to learn more about the data.\n",
        "- Hyperparameters: Algorithms have two types of parameters. There are parameters learnt during the process. The second type - \"hyperparameters\" are parameters set by the user before the learning process. The user can experiment with different values in order to find the best algorithm performance.\n",
        "- Cross Validation: it's a technique where split the data into several parts. We tune our model on some parts of the data. We test the model's performance on the data which was kept aside. For more details, please refer to this [link]((https://docs.aws.amazon.com/machine-learning/latest/dg/cross-validation.html).\n",
        "- [Log Loss](https://scikit-learn.org/stable/modules/generated/sklearn.metrics.log_loss.html) - (logistic loss/cross-entropy loss) is used to evaluate the probability outputs of a classifier as opposed to its predictions. This is a popular metric in Kaggle competitions.\n",
        "- [Accuracy](https://scikit-learn.org/stable/modules/generated/sklearn.metrics.accuracy_score.html) - determines the \n",
        "percentage of samples the algorithm was able to classify correctly.\n",
        "- [Perfomance Measures - precision, recall, f1-score ](https://blog.exsilio.com/all/accuracy-precision-recall-f1-score-interpretation-of-performance-measures/) - key measures which help us determine the quality of the algorithm's perfomance and help us compare with other algorithms performance.\n"
      ]
    },
    {
      "cell_type": "markdown",
      "metadata": {
        "id": "D7eFc_dJNn3k",
        "colab_type": "text"
      },
      "source": [
        "### Load Libraries"
      ]
    },
    {
      "cell_type": "code",
      "metadata": {
        "id": "FFlaforJNqNF",
        "colab_type": "code",
        "outputId": "76656f2d-2303-410f-a5ae-ae5d8e679605",
        "colab": {
          "base_uri": "https://localhost:8080/",
          "height": 34
        }
      },
      "source": [
        "#Standard Libraries\n",
        "import numpy as np\n",
        "import pandas as pd\n",
        "from pandas import DataFrame\n",
        "import seaborn as sns\n",
        "import matplotlib.pyplot as plt\n",
        "\n",
        "#Machine Learning Libraries\n",
        "from sklearn.naive_bayes import GaussianNB\n",
        "from sklearn.decomposition import PCA\n",
        "from sklearn.model_selection import train_test_split, cross_val_score\n",
        "from sklearn.preprocessing import LabelEncoder, StandardScaler\n",
        "from sklearn.utils import shuffle\n",
        "from sklearn.model_selection import StratifiedKFold\n",
        "from sklearn.model_selection import GridSearchCV, RandomizedSearchCV\n",
        "from sklearn import svm\n",
        "from sklearn.ensemble import RandomForestClassifier\n",
        "from sklearn.neighbors import KNeighborsClassifier\n",
        "from sklearn.preprocessing import StandardScaler\n",
        "from sklearn.linear_model import LogisticRegression \n",
        "from sklearn.ensemble import GradientBoostingClassifier \n",
        "from sklearn.discriminant_analysis import LinearDiscriminantAnalysis\n",
        "from sklearn import tree\n",
        "import xgboost as xgb\n",
        "\n",
        "# Deep Learning Libraries\n",
        "from keras import models\n",
        "from keras import layers\n",
        "from keras.models import Sequential\n",
        "from keras.layers import Dense\n",
        "from keras.utils.np_utils import to_categorical\n",
        "from keras.wrappers.scikit_learn import KerasClassifier\n",
        "\n",
        "# Analysing Results\n",
        "from sklearn.metrics import log_loss, accuracy_score, f1_score, precision_score, recall_score\n",
        "from sklearn.metrics import confusion_matrix, classification_report\n",
        "from sklearn.metrics import accuracy_score, roc_curve, auc, roc_auc_score"
      ],
      "execution_count": 0,
      "outputs": [
        {
          "output_type": "stream",
          "text": [
            "Using TensorFlow backend.\n"
          ],
          "name": "stderr"
        }
      ]
    },
    {
      "cell_type": "markdown",
      "metadata": {
        "id": "XSKX3u6U13a2",
        "colab_type": "text"
      },
      "source": [
        "### To do\n",
        "\n",
        "For each technique - explain/ apply/hyperparameter/check accuracy\n",
        "\n",
        "XGBoost\n",
        "\n",
        "PCA\n",
        "\n",
        "NN + Tensorboard\n",
        "\n",
        "Summarise results\n",
        "\n",
        "Write up each algo + make whole notebook look pretty."
      ]
    },
    {
      "cell_type": "markdown",
      "metadata": {
        "id": "XYXWjtWDlnTj",
        "colab_type": "text"
      },
      "source": [
        "### Loading data from Google Drive"
      ]
    },
    {
      "cell_type": "code",
      "metadata": {
        "id": "acdhLfk7wweI",
        "colab_type": "code",
        "outputId": "9cdc4ffe-f366-4f9d-fd37-0c2b5f65d98a",
        "colab": {
          "base_uri": "https://localhost:8080/",
          "height": 124
        }
      },
      "source": [
        "from google.colab import drive\n",
        "drive.mount('/content/gdrive')\n",
        "df = pd.read_csv('/content/gdrive/My Drive/mydata/heart.csv')"
      ],
      "execution_count": 0,
      "outputs": [
        {
          "output_type": "stream",
          "text": [
            "Go to this URL in a browser: https://accounts.google.com/o/oauth2/auth?client_id=947318989803-6bn6qk8qdgf4n4g3pfee6491hc0brc4i.apps.googleusercontent.com&redirect_uri=urn%3Aietf%3Awg%3Aoauth%3A2.0%3Aoob&scope=email%20https%3A%2F%2Fwww.googleapis.com%2Fauth%2Fdocs.test%20https%3A%2F%2Fwww.googleapis.com%2Fauth%2Fdrive%20https%3A%2F%2Fwww.googleapis.com%2Fauth%2Fdrive.photos.readonly%20https%3A%2F%2Fwww.googleapis.com%2Fauth%2Fpeopleapi.readonly&response_type=code\n",
            "\n",
            "Enter your authorization code:\n",
            "··········\n",
            "Mounted at /content/gdrive\n"
          ],
          "name": "stdout"
        }
      ]
    },
    {
      "cell_type": "markdown",
      "metadata": {
        "id": "GTzGMGKj5zi-",
        "colab_type": "text"
      },
      "source": [
        "### Roadmap\n",
        "\n",
        "Every machine learning project has 4 main steps:\n",
        "\n",
        "- **Data Collection**: obtaining the data.\n",
        "- **Data Cleaning and Exploration**: the dataset needs to be checked for missing values, null/inappropriate values and steps must be taken (if needed) to organise the dataset for inputting into the models. \n",
        "- **Model Building & Results**: building and tuning machine learning models to maximise algorithm's performance.\n",
        "- **Further Steps**: Assessing the results from the algorithms and deciding future steps. Are the results satisfactory and conclusive? Do we need to collect more data / tune exisiting models / search / develop other models to get a better result?"
      ]
    },
    {
      "cell_type": "markdown",
      "metadata": {
        "id": "-zBl18ZoGGvh",
        "colab_type": "text"
      },
      "source": [
        "### Exploratory Data Analysis"
      ]
    },
    {
      "cell_type": "markdown",
      "metadata": {
        "id": "fCt2-2EAEs5-",
        "colab_type": "text"
      },
      "source": [
        "In data science, it is important to analyse the dataset before using the  Machine Learning models. [Pandas](https://pandas.pydata.org/pandas-docs/stable/user_guide/cookbook.html) is an excellent Python library which has several in-built features to help us with data analysis. Some of the key pandas functions are:\n",
        "\n",
        "- head: a brief overview of the first few rows of the dataframe.\n",
        "- shape:  provides the number of rows and columns in the dataframe.\n",
        "- describe: get various summary statistics.\n",
        "- info: the number and type of value in each column.\n",
        "\n"
      ]
    },
    {
      "cell_type": "code",
      "metadata": {
        "id": "IzQcOGAS8KCK",
        "colab_type": "code",
        "outputId": "e2dbedca-7efa-4c94-f561-f0f9a5884dac",
        "colab": {
          "base_uri": "https://localhost:8080/",
          "height": 206
        }
      },
      "source": [
        "# To understand the data better, let’s view the dataset. \n",
        "df.head()"
      ],
      "execution_count": 0,
      "outputs": [
        {
          "output_type": "execute_result",
          "data": {
            "text/html": [
              "<div>\n",
              "<style scoped>\n",
              "    .dataframe tbody tr th:only-of-type {\n",
              "        vertical-align: middle;\n",
              "    }\n",
              "\n",
              "    .dataframe tbody tr th {\n",
              "        vertical-align: top;\n",
              "    }\n",
              "\n",
              "    .dataframe thead th {\n",
              "        text-align: right;\n",
              "    }\n",
              "</style>\n",
              "<table border=\"1\" class=\"dataframe\">\n",
              "  <thead>\n",
              "    <tr style=\"text-align: right;\">\n",
              "      <th></th>\n",
              "      <th>age</th>\n",
              "      <th>sex</th>\n",
              "      <th>cp</th>\n",
              "      <th>trestbps</th>\n",
              "      <th>chol</th>\n",
              "      <th>fbs</th>\n",
              "      <th>restecg</th>\n",
              "      <th>thalach</th>\n",
              "      <th>exang</th>\n",
              "      <th>oldpeak</th>\n",
              "      <th>slope</th>\n",
              "      <th>ca</th>\n",
              "      <th>thal</th>\n",
              "      <th>target</th>\n",
              "    </tr>\n",
              "  </thead>\n",
              "  <tbody>\n",
              "    <tr>\n",
              "      <th>0</th>\n",
              "      <td>63</td>\n",
              "      <td>1</td>\n",
              "      <td>3</td>\n",
              "      <td>145</td>\n",
              "      <td>233</td>\n",
              "      <td>1</td>\n",
              "      <td>0</td>\n",
              "      <td>150</td>\n",
              "      <td>0</td>\n",
              "      <td>2.3</td>\n",
              "      <td>0</td>\n",
              "      <td>0</td>\n",
              "      <td>1</td>\n",
              "      <td>1</td>\n",
              "    </tr>\n",
              "    <tr>\n",
              "      <th>1</th>\n",
              "      <td>37</td>\n",
              "      <td>1</td>\n",
              "      <td>2</td>\n",
              "      <td>130</td>\n",
              "      <td>250</td>\n",
              "      <td>0</td>\n",
              "      <td>1</td>\n",
              "      <td>187</td>\n",
              "      <td>0</td>\n",
              "      <td>3.5</td>\n",
              "      <td>0</td>\n",
              "      <td>0</td>\n",
              "      <td>2</td>\n",
              "      <td>1</td>\n",
              "    </tr>\n",
              "    <tr>\n",
              "      <th>2</th>\n",
              "      <td>41</td>\n",
              "      <td>0</td>\n",
              "      <td>1</td>\n",
              "      <td>130</td>\n",
              "      <td>204</td>\n",
              "      <td>0</td>\n",
              "      <td>0</td>\n",
              "      <td>172</td>\n",
              "      <td>0</td>\n",
              "      <td>1.4</td>\n",
              "      <td>2</td>\n",
              "      <td>0</td>\n",
              "      <td>2</td>\n",
              "      <td>1</td>\n",
              "    </tr>\n",
              "    <tr>\n",
              "      <th>3</th>\n",
              "      <td>56</td>\n",
              "      <td>1</td>\n",
              "      <td>1</td>\n",
              "      <td>120</td>\n",
              "      <td>236</td>\n",
              "      <td>0</td>\n",
              "      <td>1</td>\n",
              "      <td>178</td>\n",
              "      <td>0</td>\n",
              "      <td>0.8</td>\n",
              "      <td>2</td>\n",
              "      <td>0</td>\n",
              "      <td>2</td>\n",
              "      <td>1</td>\n",
              "    </tr>\n",
              "    <tr>\n",
              "      <th>4</th>\n",
              "      <td>57</td>\n",
              "      <td>0</td>\n",
              "      <td>0</td>\n",
              "      <td>120</td>\n",
              "      <td>354</td>\n",
              "      <td>0</td>\n",
              "      <td>1</td>\n",
              "      <td>163</td>\n",
              "      <td>1</td>\n",
              "      <td>0.6</td>\n",
              "      <td>2</td>\n",
              "      <td>0</td>\n",
              "      <td>2</td>\n",
              "      <td>1</td>\n",
              "    </tr>\n",
              "  </tbody>\n",
              "</table>\n",
              "</div>"
            ],
            "text/plain": [
              "   age  sex  cp  trestbps  chol  fbs  ...  exang  oldpeak  slope  ca  thal  target\n",
              "0   63    1   3       145   233    1  ...      0      2.3      0   0     1       1\n",
              "1   37    1   2       130   250    0  ...      0      3.5      0   0     2       1\n",
              "2   41    0   1       130   204    0  ...      0      1.4      2   0     2       1\n",
              "3   56    1   1       120   236    0  ...      0      0.8      2   0     2       1\n",
              "4   57    0   0       120   354    0  ...      1      0.6      2   0     2       1\n",
              "\n",
              "[5 rows x 14 columns]"
            ]
          },
          "metadata": {
            "tags": []
          },
          "execution_count": 68
        }
      ]
    },
    {
      "cell_type": "code",
      "metadata": {
        "id": "HEsxVweFxLY1",
        "colab_type": "code",
        "outputId": "01c4447b-2edf-4f4f-e14d-eebd12a3018f",
        "colab": {
          "base_uri": "https://localhost:8080/",
          "height": 330
        }
      },
      "source": [
        "print(\"Size of dataset is\", df.shape)\n",
        "\n",
        "# We need to see how imbalanced the\n",
        "plt.bar(df['target'].unique(), df['target'].value_counts(), color=['blue', 'yellow'])\n",
        "plt.xticks([0,1])\n",
        "plt.xlabel('Target Class')\n",
        "plt.ylabel('Count')\n",
        "plt.title('Target Class')"
      ],
      "execution_count": 0,
      "outputs": [
        {
          "output_type": "stream",
          "text": [
            "Size of dataset is (303, 14)\n"
          ],
          "name": "stdout"
        },
        {
          "output_type": "execute_result",
          "data": {
            "text/plain": [
              "Text(0.5, 1.0, 'Target Class')"
            ]
          },
          "metadata": {
            "tags": []
          },
          "execution_count": 69
        },
        {
          "output_type": "display_data",
          "data": {
            "image/png": "[encoded data removed]",
            "text/plain": [
              "<Figure size 432x288 with 1 Axes>"
            ]
          },
          "metadata": {
            "tags": []
          }
        }
      ]
    },
    {
      "cell_type": "code",
      "metadata": {
        "id": "FBWVCeJEyoKs",
        "colab_type": "code",
        "outputId": "e175d039-8044-4710-955d-5d56c56c3cf2",
        "colab": {
          "base_uri": "https://localhost:8080/",
          "height": 320
        }
      },
      "source": [
        "\n",
        "df.describe()"
      ],
      "execution_count": 0,
      "outputs": [
        {
          "output_type": "execute_result",
          "data": {
            "text/html": [
              "<div>\n",
              "<style scoped>\n",
              "    .dataframe tbody tr th:only-of-type {\n",
              "        vertical-align: middle;\n",
              "    }\n",
              "\n",
              "    .dataframe tbody tr th {\n",
              "        vertical-align: top;\n",
              "    }\n",
              "\n",
              "    .dataframe thead th {\n",
              "        text-align: right;\n",
              "    }\n",
              "</style>\n",
              "<table border=\"1\" class=\"dataframe\">\n",
              "  <thead>\n",
              "    <tr style=\"text-align: right;\">\n",
              "      <th></th>\n",
              "      <th>age</th>\n",
              "      <th>sex</th>\n",
              "      <th>cp</th>\n",
              "      <th>trestbps</th>\n",
              "      <th>chol</th>\n",
              "      <th>fbs</th>\n",
              "      <th>restecg</th>\n",
              "      <th>thalach</th>\n",
              "      <th>exang</th>\n",
              "      <th>oldpeak</th>\n",
              "      <th>slope</th>\n",
              "      <th>ca</th>\n",
              "      <th>thal</th>\n",
              "      <th>target</th>\n",
              "    </tr>\n",
              "  </thead>\n",
              "  <tbody>\n",
              "    <tr>\n",
              "      <th>count</th>\n",
              "      <td>303.000000</td>\n",
              "      <td>303.000000</td>\n",
              "      <td>303.000000</td>\n",
              "      <td>303.000000</td>\n",
              "      <td>303.000000</td>\n",
              "      <td>303.000000</td>\n",
              "      <td>303.000000</td>\n",
              "      <td>303.000000</td>\n",
              "      <td>303.000000</td>\n",
              "      <td>303.000000</td>\n",
              "      <td>303.000000</td>\n",
              "      <td>303.000000</td>\n",
              "      <td>303.000000</td>\n",
              "      <td>303.000000</td>\n",
              "    </tr>\n",
              "    <tr>\n",
              "      <th>mean</th>\n",
              "      <td>54.366337</td>\n",
              "      <td>0.683168</td>\n",
              "      <td>0.966997</td>\n",
              "      <td>131.623762</td>\n",
              "      <td>246.264026</td>\n",
              "      <td>0.148515</td>\n",
              "      <td>0.528053</td>\n",
              "      <td>149.646865</td>\n",
              "      <td>0.326733</td>\n",
              "      <td>1.039604</td>\n",
              "      <td>1.399340</td>\n",
              "      <td>0.729373</td>\n",
              "      <td>2.313531</td>\n",
              "      <td>0.544554</td>\n",
              "    </tr>\n",
              "    <tr>\n",
              "      <th>std</th>\n",
              "      <td>9.082101</td>\n",
              "      <td>0.466011</td>\n",
              "      <td>1.032052</td>\n",
              "      <td>17.538143</td>\n",
              "      <td>51.830751</td>\n",
              "      <td>0.356198</td>\n",
              "      <td>0.525860</td>\n",
              "      <td>22.905161</td>\n",
              "      <td>0.469794</td>\n",
              "      <td>1.161075</td>\n",
              "      <td>0.616226</td>\n",
              "      <td>1.022606</td>\n",
              "      <td>0.612277</td>\n",
              "      <td>0.498835</td>\n",
              "    </tr>\n",
              "    <tr>\n",
              "      <th>min</th>\n",
              "      <td>29.000000</td>\n",
              "      <td>0.000000</td>\n",
              "      <td>0.000000</td>\n",
              "      <td>94.000000</td>\n",
              "      <td>126.000000</td>\n",
              "      <td>0.000000</td>\n",
              "      <td>0.000000</td>\n",
              "      <td>71.000000</td>\n",
              "      <td>0.000000</td>\n",
              "      <td>0.000000</td>\n",
              "      <td>0.000000</td>\n",
              "      <td>0.000000</td>\n",
              "      <td>0.000000</td>\n",
              "      <td>0.000000</td>\n",
              "    </tr>\n",
              "    <tr>\n",
              "      <th>25%</th>\n",
              "      <td>47.500000</td>\n",
              "      <td>0.000000</td>\n",
              "      <td>0.000000</td>\n",
              "      <td>120.000000</td>\n",
              "      <td>211.000000</td>\n",
              "      <td>0.000000</td>\n",
              "      <td>0.000000</td>\n",
              "      <td>133.500000</td>\n",
              "      <td>0.000000</td>\n",
              "      <td>0.000000</td>\n",
              "      <td>1.000000</td>\n",
              "      <td>0.000000</td>\n",
              "      <td>2.000000</td>\n",
              "      <td>0.000000</td>\n",
              "    </tr>\n",
              "    <tr>\n",
              "      <th>50%</th>\n",
              "      <td>55.000000</td>\n",
              "      <td>1.000000</td>\n",
              "      <td>1.000000</td>\n",
              "      <td>130.000000</td>\n",
              "      <td>240.000000</td>\n",
              "      <td>0.000000</td>\n",
              "      <td>1.000000</td>\n",
              "      <td>153.000000</td>\n",
              "      <td>0.000000</td>\n",
              "      <td>0.800000</td>\n",
              "      <td>1.000000</td>\n",
              "      <td>0.000000</td>\n",
              "      <td>2.000000</td>\n",
              "      <td>1.000000</td>\n",
              "    </tr>\n",
              "    <tr>\n",
              "      <th>75%</th>\n",
              "      <td>61.000000</td>\n",
              "      <td>1.000000</td>\n",
              "      <td>2.000000</td>\n",
              "      <td>140.000000</td>\n",
              "      <td>274.500000</td>\n",
              "      <td>0.000000</td>\n",
              "      <td>1.000000</td>\n",
              "      <td>166.000000</td>\n",
              "      <td>1.000000</td>\n",
              "      <td>1.600000</td>\n",
              "      <td>2.000000</td>\n",
              "      <td>1.000000</td>\n",
              "      <td>3.000000</td>\n",
              "      <td>1.000000</td>\n",
              "    </tr>\n",
              "    <tr>\n",
              "      <th>max</th>\n",
              "      <td>77.000000</td>\n",
              "      <td>1.000000</td>\n",
              "      <td>3.000000</td>\n",
              "      <td>200.000000</td>\n",
              "      <td>564.000000</td>\n",
              "      <td>1.000000</td>\n",
              "      <td>2.000000</td>\n",
              "      <td>202.000000</td>\n",
              "      <td>1.000000</td>\n",
              "      <td>6.200000</td>\n",
              "      <td>2.000000</td>\n",
              "      <td>4.000000</td>\n",
              "      <td>3.000000</td>\n",
              "      <td>1.000000</td>\n",
              "    </tr>\n",
              "  </tbody>\n",
              "</table>\n",
              "</div>"
            ],
            "text/plain": [
              "              age         sex          cp  ...          ca        thal      target\n",
              "count  303.000000  303.000000  303.000000  ...  303.000000  303.000000  303.000000\n",
              "mean    54.366337    0.683168    0.966997  ...    0.729373    2.313531    0.544554\n",
              "std      9.082101    0.466011    1.032052  ...    1.022606    0.612277    0.498835\n",
              "min     29.000000    0.000000    0.000000  ...    0.000000    0.000000    0.000000\n",
              "25%     47.500000    0.000000    0.000000  ...    0.000000    2.000000    0.000000\n",
              "50%     55.000000    1.000000    1.000000  ...    0.000000    2.000000    1.000000\n",
              "75%     61.000000    1.000000    2.000000  ...    1.000000    3.000000    1.000000\n",
              "max     77.000000    1.000000    3.000000  ...    4.000000    3.000000    1.000000\n",
              "\n",
              "[8 rows x 14 columns]"
            ]
          },
          "metadata": {
            "tags": []
          },
          "execution_count": 70
        }
      ]
    },
    {
      "cell_type": "code",
      "metadata": {
        "id": "ngKCSwyvGPr0",
        "colab_type": "code",
        "outputId": "ade3f289-86cd-4493-cf8e-a2e4e54a2a87",
        "colab": {
          "base_uri": "https://localhost:8080/",
          "height": 347
        }
      },
      "source": [
        "# The dataset has 303 rows and there are no missing values. \n",
        "# There are 13 features and one target column.\n",
        "df.info()"
      ],
      "execution_count": 0,
      "outputs": [
        {
          "output_type": "stream",
          "text": [
            "<class 'pandas.core.frame.DataFrame'>\n",
            "RangeIndex: 303 entries, 0 to 302\n",
            "Data columns (total 14 columns):\n",
            "age         303 non-null int64\n",
            "sex         303 non-null int64\n",
            "cp          303 non-null int64\n",
            "trestbps    303 non-null int64\n",
            "chol        303 non-null int64\n",
            "fbs         303 non-null int64\n",
            "restecg     303 non-null int64\n",
            "thalach     303 non-null int64\n",
            "exang       303 non-null int64\n",
            "oldpeak     303 non-null float64\n",
            "slope       303 non-null int64\n",
            "ca          303 non-null int64\n",
            "thal        303 non-null int64\n",
            "target      303 non-null int64\n",
            "dtypes: float64(1), int64(13)\n",
            "memory usage: 33.2 KB\n"
          ],
          "name": "stdout"
        }
      ]
    },
    {
      "cell_type": "code",
      "metadata": {
        "id": "-hKHZ34nG5Y9",
        "colab_type": "code",
        "outputId": "ca67d2ba-086f-4853-b94b-a40bd394726b",
        "colab": {
          "base_uri": "https://localhost:8080/",
          "height": 278
        }
      },
      "source": [
        "df.isnull().sum()"
      ],
      "execution_count": 0,
      "outputs": [
        {
          "output_type": "execute_result",
          "data": {
            "text/plain": [
              "age         0\n",
              "sex         0\n",
              "cp          0\n",
              "trestbps    0\n",
              "chol        0\n",
              "fbs         0\n",
              "restecg     0\n",
              "thalach     0\n",
              "exang       0\n",
              "oldpeak     0\n",
              "slope       0\n",
              "ca          0\n",
              "thal        0\n",
              "target      0\n",
              "dtype: int64"
            ]
          },
          "metadata": {
            "tags": []
          },
          "execution_count": 53
        }
      ]
    },
    {
      "cell_type": "code",
      "metadata": {
        "id": "Vh6llsm4MFwc",
        "colab_type": "code",
        "outputId": "fe4d6f32-198c-4acd-c1d8-18d98a0bafe6",
        "colab": {
          "base_uri": "https://localhost:8080/",
          "height": 503
        }
      },
      "source": [
        "# Correlation heatmap\n",
        "fig = plt.figure(figsize=(15,8))\n",
        "sns.heatmap(df.corr(), annot = True, cmap = 'YlGnBu')"
      ],
      "execution_count": 0,
      "outputs": [
        {
          "output_type": "execute_result",
          "data": {
            "text/plain": [
              "<matplotlib.axes._subplots.AxesSubplot at 0x7f51b2904668>"
            ]
          },
          "metadata": {
            "tags": []
          },
          "execution_count": 54
        },
        {
          "output_type": "display_data",
          "data": {
            "image/png": "[encoded data removed]",
            "text/plain": [
              "<Figure size 1080x576 with 2 Axes>"
            ]
          },
          "metadata": {
            "tags": []
          }
        }
      ]
    },
    {
      "cell_type": "markdown",
      "metadata": {
        "id": "2jqjL5UbmD3Z",
        "colab_type": "text"
      },
      "source": [
        "### Splitting up Dataset\n",
        "\n",
        "The dataset needs to be split up into a training set and test set. There's a [train test split](https://scikit-learn.org/stable/modules/generated/sklearn.model_selection.train_test_split.html) function available in Python which splits the data."
      ]
    },
    {
      "cell_type": "code",
      "metadata": {
        "id": "2Oooyw3ete18",
        "colab_type": "code",
        "colab": {}
      },
      "source": [
        "# Train \n",
        "ResultsData = [] # empty list to hold results from different algorithms\n",
        "cv = 10 # number of folds to do in cross validation\n",
        "X = df.iloc[:,:13] # dataset features \n",
        "y = df.iloc[:, 13] # labels\n",
        "\n",
        "# Splitting dataset into training and test using Python in-built function\n",
        "X_train, X_test, y_train, y_test = train_test_split(X,y,test_size=0.1, random_state=3)"
      ],
      "execution_count": 0,
      "outputs": []
    },
    {
      "cell_type": "markdown",
      "metadata": {
        "id": "No_SCxqJft6Y",
        "colab_type": "text"
      },
      "source": [
        "The range of the features are quite different. For example, maximum value of the feature 'age' is 77 but for the feature 'cp' it is 3. \n",
        "For distance based algorithms like K-Nearest Neighbours, this disparity in values amongst different features, will have an effect on its performance. An [excellent article](http://sebastianraschka.com/Articles/2014_about_feature_scaling.html) explains this topic in depth.\n",
        "\n",
        "Hence, the dataset will be standardised in order to minimise any negative effects and maximise the algorithm's performance."
      ]
    },
    {
      "cell_type": "code",
      "metadata": {
        "id": "5hYj7JszZemv",
        "colab_type": "code",
        "colab": {}
      },
      "source": [
        "#Standardising the dataset. We standardise on training set ONLY and apply it to test set.\n",
        "# We DO NOT want test data information \"leaking\" into the dataset.\n",
        "\n",
        "scaler = StandardScaler()\n",
        "scaler.fit(X_train)\n",
        "X_train = scaler.transform(X_train)\n",
        "X_test = scaler.transform(X_test)\n"
      ],
      "execution_count": 0,
      "outputs": []
    },
    {
      "cell_type": "markdown",
      "metadata": {
        "id": "AEmbmY1ptkk8",
        "colab_type": "text"
      },
      "source": [
        "### Machine Learning Techniques\n",
        "\n",
        "- Different supervised machine learning techniques will be used to see whch model provides the best prediction. The techniques are:\n",
        "\n",
        "  - K Nearest Neighbours (KNN)\n",
        "  - Support Vector Machines (SVM)\n",
        "  - Random Forest\n",
        "  - Naive Bayes\n",
        "  - Logistic Regression\n",
        "  - XGBoost\n",
        "  - Neural Networks\n",
        "  - Ensembling\n",
        "\n",
        "- Python has a very popular package [scikit-learn](https://scikit-learn.org/stable/) which has several machine learning libraries built in, ready for use. To study more about the sci-kit learn library and how it was built, please refer to this [paper](https://arxiv.org/abs/1309.0238).\n",
        "- Sci-kit learn models are extremely user-friendly and have a simple logic of fitting the training data and predicting test data results.\n",
        "- The default parameters will used mostly, apart from some hyperparameter tuning (discussed later on).\n",
        "- For each of the models, the following will be done:\n",
        " - Instantiating the model.\n",
        " - Creating a list of hyperparameter values which need to be tuned.\n",
        " - Find the optimal hyperparameters and fit and train the model (with the optimal hyperparameters).\n",
        " - Three main classification metrics will be calculated to measure the algorithm's performance.\n",
        "    - Log Loss\n",
        "    - Accuracy\n",
        "    - F1-score"
      ]
    },
    {
      "cell_type": "markdown",
      "metadata": {
        "id": "Lvo_KhiplcFN",
        "colab_type": "text"
      },
      "source": [
        "### [K Nearest Neighbour (KNN)](https://scikit-learn.org/stable/modules/generated/sklearn.neighbors.KNeighborsClassifier.html)\n",
        "\n",
        "- Explanation: \n",
        " - It is a supervised, non - parametric method which can be used for classification or regression.\n",
        " - To explain briefly, an object is classified by a plurality vote of its neighbors. The object needs to be assigned to a class. The object is assigned to the class which is most common among its 'k' nearest neighbors . \n",
        " - For example, if k = 3, two of the nearest three objects are of class 2 and one of the nearest three objects belongs to class 1. The object being assigned, will be assigned to class 2.\n",
        " - [Excellent article](https://towardsdatascience.com/machine-learning-basics-with-the-k-nearest-neighbors-algorithm-6a6e71d01761) explaining the inner workings of the algorithm.\n",
        "- Hyperparameters: \n",
        " - number of neighbours\n",
        " - distance measure - the sci-kit learn default is Euclidean and this will be used.\n"
      ]
    },
    {
      "cell_type": "code",
      "metadata": {
        "id": "dd0rPQrA8dID",
        "colab_type": "code",
        "outputId": "7237f0ee-8227-4a54-c991-10bac8079c8d",
        "colab": {
          "base_uri": "https://localhost:8080/",
          "height": 245
        }
      },
      "source": [
        "knn = KNeighborsClassifier() # Instantiating the model\n",
        "\n",
        "#Hyperparameters\n",
        "param_grid = {\"n_neighbors\": [5,10,15,20,25]}\n",
        "\n",
        "\n",
        "#GridSearch CV to find the best hyperparameters\n",
        "CV_knn = GridSearchCV(estimator=knn, param_grid=param_grid, cv=cv)\n",
        "CV_knn.fit(X_train, y_train)\n",
        "\n",
        "#CV_knn.best_params_: This is a dictionary which has the parameters with the best accuracy\n",
        "\n",
        "\n",
        "# fit the model with training set and predict test set\n",
        "knn = KNeighborsClassifier(n_neighbors=CV_knn.best_params_['n_neighbors'])\n",
        "knn.fit(X_train, y_train)\n",
        "y_log_loss_pred = knn.predict_proba(X_test)\n",
        "y_pred = knn.predict(X_test)\n",
        "\n",
        "#Calculate and print the results metrics\n",
        "logLoss = log_loss(y_test, y_log_loss_pred)\n",
        "accuracy = accuracy_score(y_test, y_pred)\n",
        "f1Score = f1_score(y_test, y_pred)\n",
        "print(\"LogLoss is {0:.3f}\".format(logLoss))\n",
        "print(\"Accuracy is {0:.2f}%\".format(accuracy * 100))\n",
        "print(\"F1-Score is {0:.3f}\".format(f1Score))\n",
        "\n",
        "#Creating a list of results\n",
        "li = []\n",
        "li.append('KNN')\n",
        "li.append(round(logLoss,4))\n",
        "li.append(round (accuracy,4))\n",
        "li.append(round (f1Score,4))\n",
        "\n",
        "#Appending to main List for Comparison purposes\n",
        "ResultsData.append(li)\n"
      ],
      "execution_count": 0,
      "outputs": [
        {
          "output_type": "stream",
          "text": [
            "/usr/local/lib/python3.6/dist-packages/sklearn/model_selection/_search.py:813: DeprecationWarning: The default of the `iid` parameter will change from True to False in version 0.22 and will be removed in 0.24. This will change numeric results when test-set sizes are unequal.\n",
            "  DeprecationWarning)\n"
          ],
          "name": "stderr"
        },
        {
          "output_type": "execute_result",
          "data": {
            "text/plain": [
              "GridSearchCV(cv=10, error_score='raise-deprecating',\n",
              "             estimator=KNeighborsClassifier(algorithm='auto', leaf_size=30,\n",
              "                                            metric='minkowski',\n",
              "                                            metric_params=None, n_jobs=None,\n",
              "                                            n_neighbors=5, p=2,\n",
              "                                            weights='uniform'),\n",
              "             iid='warn', n_jobs=None,\n",
              "             param_grid={'n_neighbors': [5, 10, 15, 20, 25]},\n",
              "             pre_dispatch='2*n_jobs', refit=True, return_train_score=False,\n",
              "             scoring=None, verbose=0)"
            ]
          },
          "metadata": {
            "tags": []
          },
          "execution_count": 73
        }
      ]
    },
    {
      "cell_type": "markdown",
      "metadata": {
        "id": "HPNjOQbfZ7D6",
        "colab_type": "text"
      },
      "source": [
        "### [Support Vector Machine (SVM)](https://scikit-learn.org/stable/modules/svm.html)\n",
        "\n",
        "- Explanation: \n",
        "  - Supervised algorithm which can perform linear and non-linear classification.\n",
        "  - SVM tries to find a hyperplane that best divides the dataset into its different classes. It does this by maximising the \"margin\" between them.\n",
        "  - SVM works with linearly separable and non-linearly separable cases. For non-linearly separable cases, it has a \"kernel\" trick\n",
        "  - To study about the math, please read this [article](https://www.svm-tutorial.com/2014/11/svm-understanding-math-part-1/).\n",
        "  \n",
        "- Hyperparameters: \n",
        "  - C:  penalty parameter of the error term.\n",
        "  - kernel: the kernel type to be used. The main kernels are radial basis function (rbf) and linear.\n",
        "  - gamma: the kernel coefficient"
      ]
    },
    {
      "cell_type": "code",
      "metadata": {
        "id": "Z8EbrOAaudfF",
        "colab_type": "code",
        "outputId": "8043d40a-ce51-4f79-f7c3-9ced43c4e634",
        "colab": {
          "base_uri": "https://localhost:8080/",
          "height": 124
        }
      },
      "source": [
        "svmModel = SVC() # Instantiating the model\n",
        "\n",
        "#Hyperparameters\n",
        "parameters = [{'kernel':['rbf'],\n",
        "              'gamma':[1e-4, 1e-3, 0.01, 0.1, 0.2],\n",
        "              'C':[1,10,20,30,50,60,100]},\n",
        "             {'kernel':['linear'], 'C':[1,10,100]}]\n",
        "\n",
        "#GridSearch CV to find the best hyperparameters\n",
        "clf = GridSearchCV(svmModel, parameters, cv=cv)\n",
        "clf.fit(X_train,y_train)\n",
        "\n",
        "#clf.best_params_: This is a dictionary which has the parameters with the best accuracy\n",
        "\n",
        "svc = SVC(C= clf.best_params_['C'], \n",
        "          kernel= clf.best_params_['kernel'],\n",
        "          gamma = clf.best_params_['gamma'],\n",
        "          probability=True)\n",
        "\n",
        "# fit the model with training set and predict test set\n",
        "svc.fit(X_train, y_train)\n",
        "y_pred = svc.predict(X_test)\n",
        "y_log_loss_pred = svc.predict_proba(X_test)\n",
        "\n",
        "#Calculate and print the results metrics\n",
        "accuracy = accuracy_score(y_test, y_pred)\n",
        "logLoss = log_loss(y_test, y_log_loss_pred)\n",
        "f1Score = f1_score(y_test, y_pred)\n",
        "print(\"LogLoss is {0:.3f}\".format(logLoss))\n",
        "print(\"Accuracy is {0:.2f}%\".format(accuracy * 100))\n",
        "print(\"F1-Score is {0:.3f}\".format(f1Score))\n",
        "\n",
        "#Creating a list of results\n",
        "li = []\n",
        "li.append('SVM')\n",
        "li.append(round(logLoss,4))\n",
        "li.append(round (accuracy,4))\n",
        "li.append(round (f1Score,4))\n",
        "\n",
        "#Appending to main List for Comparison purposes\n",
        "ResultsData.append(li)"
      ],
      "execution_count": 0,
      "outputs": [
        {
          "output_type": "stream",
          "text": [
            "LogLoss is 0.355\n",
            "Accuracy is 87.10%\n",
            "F1-Score is 0.900\n"
          ],
          "name": "stdout"
        },
        {
          "output_type": "stream",
          "text": [
            "/usr/local/lib/python3.6/dist-packages/sklearn/model_selection/_search.py:813: DeprecationWarning: The default of the `iid` parameter will change from True to False in version 0.22 and will be removed in 0.24. This will change numeric results when test-set sizes are unequal.\n",
            "  DeprecationWarning)\n"
          ],
          "name": "stderr"
        }
      ]
    },
    {
      "cell_type": "markdown",
      "metadata": {
        "id": "qlljTigVaBZE",
        "colab_type": "text"
      },
      "source": [
        "### [Logistic Regression](https://scikit-learn.org/stable/modules/generated/sklearn.linear_model.LogisticRegression.html)\n",
        "\n",
        "- Explanation: \n",
        " - It is a supervised classification algorithm.\n",
        "- Hyperparameters:  \n",
        " - Penalty: specifies the norm used in the penalization - l1 or l2.\n",
        " - C: Inverse of regularization strength. Lower the value, higher the regularisation strength."
      ]
    },
    {
      "cell_type": "code",
      "metadata": {
        "id": "32dwTBDbsK_z",
        "colab_type": "code",
        "outputId": "613272c5-07df-4d6e-f3e0-c2e91c2f984f",
        "colab": {
          "base_uri": "https://localhost:8080/",
          "height": 1000
        }
      },
      "source": [
        "logRegModel = LogisticRegression() # Instantiating the model\n",
        "\n",
        "#Hyperparameters\n",
        "penalty = ['l1', 'l2']\n",
        "C = np.linspace(1, 20, 3)\n",
        "hyperparameters = dict(C=C, penalty=penalty)\n",
        "\n",
        "#GridSearch CV to find the best hyperparameters\n",
        "logreg_cv = GridSearchCV(logRegModel, hyperparameters, cv=cv)\n",
        "logreg_cv.fit(X_train,y_train)\n",
        "\n",
        "# logreg_cv.best_params_ - dictionary which contains the hyperparameters with the best results\n",
        "\n",
        "lr = LogisticRegression(C = logreg_cv.best_params_['C'], penalty=logreg_cv.best_params_['penalty'])\n",
        "\n",
        "# fit the model with training set\n",
        "lr.fit(X_train, y_train)\n",
        "y_log_loss_pred = lr.predict_proba(X_test)\n",
        "y_pred = lr.predict(X_test)\n",
        "\n",
        "#Calculate and print the results metrics\n",
        "logLoss = log_loss(y_test, y_log_loss_pred)\n",
        "accuracy = accuracy_score(y_test, y_pred)\n",
        "f1Score = f1_score(y_test, y_pred)\n",
        "print(\"LogLoss is {0:.3f}\".format(logLoss))\n",
        "print(\"Accuracy is {0:.2f}%\".format(accuracy * 100))\n",
        "print(\"F1-Score is {0:.3f}\".format(f1Score))\n",
        "\n",
        "#Creating a list of results\n",
        "li = []\n",
        "li.append('Logistic Regression')\n",
        "li.append(round(logLoss,4))\n",
        "li.append(round (accuracy,4))\n",
        "li.append(round (f1Score,4))\n",
        "\n",
        "#Appending to main List for Comparison purposes\n",
        "ResultsData.append(li)\n",
        "\n"
      ],
      "execution_count": 0,
      "outputs": [
        {
          "output_type": "stream",
          "text": [
            "LogLoss is 0.388\n",
            "Accuracy is 87.10%\n",
            "F1-Score is 0.900\n"
          ],
          "name": "stdout"
        },
        {
          "output_type": "stream",
          "text": [
            "/usr/local/lib/python3.6/dist-packages/sklearn/linear_model/logistic.py:432: FutureWarning: Default solver will be changed to 'lbfgs' in 0.22. Specify a solver to silence this warning.\n",
            "  FutureWarning)\n",
            "/usr/local/lib/python3.6/dist-packages/sklearn/linear_model/logistic.py:432: FutureWarning: Default solver will be changed to 'lbfgs' in 0.22. Specify a solver to silence this warning.\n",
            "  FutureWarning)\n",
            "/usr/local/lib/python3.6/dist-packages/sklearn/linear_model/logistic.py:432: FutureWarning: Default solver will be changed to 'lbfgs' in 0.22. Specify a solver to silence this warning.\n",
            "  FutureWarning)\n",
            "/usr/local/lib/python3.6/dist-packages/sklearn/linear_model/logistic.py:432: FutureWarning: Default solver will be changed to 'lbfgs' in 0.22. Specify a solver to silence this warning.\n",
            "  FutureWarning)\n",
            "/usr/local/lib/python3.6/dist-packages/sklearn/linear_model/logistic.py:432: FutureWarning: Default solver will be changed to 'lbfgs' in 0.22. Specify a solver to silence this warning.\n",
            "  FutureWarning)\n",
            "/usr/local/lib/python3.6/dist-packages/sklearn/linear_model/logistic.py:432: FutureWarning: Default solver will be changed to 'lbfgs' in 0.22. Specify a solver to silence this warning.\n",
            "  FutureWarning)\n",
            "/usr/local/lib/python3.6/dist-packages/sklearn/linear_model/logistic.py:432: FutureWarning: Default solver will be changed to 'lbfgs' in 0.22. Specify a solver to silence this warning.\n",
            "  FutureWarning)\n",
            "/usr/local/lib/python3.6/dist-packages/sklearn/linear_model/logistic.py:432: FutureWarning: Default solver will be changed to 'lbfgs' in 0.22. Specify a solver to silence this warning.\n",
            "  FutureWarning)\n",
            "/usr/local/lib/python3.6/dist-packages/sklearn/linear_model/logistic.py:432: FutureWarning: Default solver will be changed to 'lbfgs' in 0.22. Specify a solver to silence this warning.\n",
            "  FutureWarning)\n",
            "/usr/local/lib/python3.6/dist-packages/sklearn/linear_model/logistic.py:432: FutureWarning: Default solver will be changed to 'lbfgs' in 0.22. Specify a solver to silence this warning.\n",
            "  FutureWarning)\n",
            "/usr/local/lib/python3.6/dist-packages/sklearn/linear_model/logistic.py:432: FutureWarning: Default solver will be changed to 'lbfgs' in 0.22. Specify a solver to silence this warning.\n",
            "  FutureWarning)\n",
            "/usr/local/lib/python3.6/dist-packages/sklearn/linear_model/logistic.py:432: FutureWarning: Default solver will be changed to 'lbfgs' in 0.22. Specify a solver to silence this warning.\n",
            "  FutureWarning)\n",
            "/usr/local/lib/python3.6/dist-packages/sklearn/linear_model/logistic.py:432: FutureWarning: Default solver will be changed to 'lbfgs' in 0.22. Specify a solver to silence this warning.\n",
            "  FutureWarning)\n",
            "/usr/local/lib/python3.6/dist-packages/sklearn/linear_model/logistic.py:432: FutureWarning: Default solver will be changed to 'lbfgs' in 0.22. Specify a solver to silence this warning.\n",
            "  FutureWarning)\n",
            "/usr/local/lib/python3.6/dist-packages/sklearn/linear_model/logistic.py:432: FutureWarning: Default solver will be changed to 'lbfgs' in 0.22. Specify a solver to silence this warning.\n",
            "  FutureWarning)\n",
            "/usr/local/lib/python3.6/dist-packages/sklearn/linear_model/logistic.py:432: FutureWarning: Default solver will be changed to 'lbfgs' in 0.22. Specify a solver to silence this warning.\n",
            "  FutureWarning)\n",
            "/usr/local/lib/python3.6/dist-packages/sklearn/linear_model/logistic.py:432: FutureWarning: Default solver will be changed to 'lbfgs' in 0.22. Specify a solver to silence this warning.\n",
            "  FutureWarning)\n",
            "/usr/local/lib/python3.6/dist-packages/sklearn/linear_model/logistic.py:432: FutureWarning: Default solver will be changed to 'lbfgs' in 0.22. Specify a solver to silence this warning.\n",
            "  FutureWarning)\n",
            "/usr/local/lib/python3.6/dist-packages/sklearn/linear_model/logistic.py:432: FutureWarning: Default solver will be changed to 'lbfgs' in 0.22. Specify a solver to silence this warning.\n",
            "  FutureWarning)\n",
            "/usr/local/lib/python3.6/dist-packages/sklearn/linear_model/logistic.py:432: FutureWarning: Default solver will be changed to 'lbfgs' in 0.22. Specify a solver to silence this warning.\n",
            "  FutureWarning)\n",
            "/usr/local/lib/python3.6/dist-packages/sklearn/linear_model/logistic.py:432: FutureWarning: Default solver will be changed to 'lbfgs' in 0.22. Specify a solver to silence this warning.\n",
            "  FutureWarning)\n",
            "/usr/local/lib/python3.6/dist-packages/sklearn/linear_model/logistic.py:432: FutureWarning: Default solver will be changed to 'lbfgs' in 0.22. Specify a solver to silence this warning.\n",
            "  FutureWarning)\n",
            "/usr/local/lib/python3.6/dist-packages/sklearn/linear_model/logistic.py:432: FutureWarning: Default solver will be changed to 'lbfgs' in 0.22. Specify a solver to silence this warning.\n",
            "  FutureWarning)\n",
            "/usr/local/lib/python3.6/dist-packages/sklearn/linear_model/logistic.py:432: FutureWarning: Default solver will be changed to 'lbfgs' in 0.22. Specify a solver to silence this warning.\n",
            "  FutureWarning)\n",
            "/usr/local/lib/python3.6/dist-packages/sklearn/linear_model/logistic.py:432: FutureWarning: Default solver will be changed to 'lbfgs' in 0.22. Specify a solver to silence this warning.\n",
            "  FutureWarning)\n",
            "/usr/local/lib/python3.6/dist-packages/sklearn/linear_model/logistic.py:432: FutureWarning: Default solver will be changed to 'lbfgs' in 0.22. Specify a solver to silence this warning.\n",
            "  FutureWarning)\n",
            "/usr/local/lib/python3.6/dist-packages/sklearn/linear_model/logistic.py:432: FutureWarning: Default solver will be changed to 'lbfgs' in 0.22. Specify a solver to silence this warning.\n",
            "  FutureWarning)\n",
            "/usr/local/lib/python3.6/dist-packages/sklearn/linear_model/logistic.py:432: FutureWarning: Default solver will be changed to 'lbfgs' in 0.22. Specify a solver to silence this warning.\n",
            "  FutureWarning)\n",
            "/usr/local/lib/python3.6/dist-packages/sklearn/linear_model/logistic.py:432: FutureWarning: Default solver will be changed to 'lbfgs' in 0.22. Specify a solver to silence this warning.\n",
            "  FutureWarning)\n",
            "/usr/local/lib/python3.6/dist-packages/sklearn/linear_model/logistic.py:432: FutureWarning: Default solver will be changed to 'lbfgs' in 0.22. Specify a solver to silence this warning.\n",
            "  FutureWarning)\n",
            "/usr/local/lib/python3.6/dist-packages/sklearn/linear_model/logistic.py:432: FutureWarning: Default solver will be changed to 'lbfgs' in 0.22. Specify a solver to silence this warning.\n",
            "  FutureWarning)\n",
            "/usr/local/lib/python3.6/dist-packages/sklearn/linear_model/logistic.py:432: FutureWarning: Default solver will be changed to 'lbfgs' in 0.22. Specify a solver to silence this warning.\n",
            "  FutureWarning)\n",
            "/usr/local/lib/python3.6/dist-packages/sklearn/linear_model/logistic.py:432: FutureWarning: Default solver will be changed to 'lbfgs' in 0.22. Specify a solver to silence this warning.\n",
            "  FutureWarning)\n",
            "/usr/local/lib/python3.6/dist-packages/sklearn/linear_model/logistic.py:432: FutureWarning: Default solver will be changed to 'lbfgs' in 0.22. Specify a solver to silence this warning.\n",
            "  FutureWarning)\n",
            "/usr/local/lib/python3.6/dist-packages/sklearn/linear_model/logistic.py:432: FutureWarning: Default solver will be changed to 'lbfgs' in 0.22. Specify a solver to silence this warning.\n",
            "  FutureWarning)\n",
            "/usr/local/lib/python3.6/dist-packages/sklearn/linear_model/logistic.py:432: FutureWarning: Default solver will be changed to 'lbfgs' in 0.22. Specify a solver to silence this warning.\n",
            "  FutureWarning)\n",
            "/usr/local/lib/python3.6/dist-packages/sklearn/linear_model/logistic.py:432: FutureWarning: Default solver will be changed to 'lbfgs' in 0.22. Specify a solver to silence this warning.\n",
            "  FutureWarning)\n",
            "/usr/local/lib/python3.6/dist-packages/sklearn/linear_model/logistic.py:432: FutureWarning: Default solver will be changed to 'lbfgs' in 0.22. Specify a solver to silence this warning.\n",
            "  FutureWarning)\n",
            "/usr/local/lib/python3.6/dist-packages/sklearn/linear_model/logistic.py:432: FutureWarning: Default solver will be changed to 'lbfgs' in 0.22. Specify a solver to silence this warning.\n",
            "  FutureWarning)\n",
            "/usr/local/lib/python3.6/dist-packages/sklearn/linear_model/logistic.py:432: FutureWarning: Default solver will be changed to 'lbfgs' in 0.22. Specify a solver to silence this warning.\n",
            "  FutureWarning)\n",
            "/usr/local/lib/python3.6/dist-packages/sklearn/linear_model/logistic.py:432: FutureWarning: Default solver will be changed to 'lbfgs' in 0.22. Specify a solver to silence this warning.\n",
            "  FutureWarning)\n",
            "/usr/local/lib/python3.6/dist-packages/sklearn/linear_model/logistic.py:432: FutureWarning: Default solver will be changed to 'lbfgs' in 0.22. Specify a solver to silence this warning.\n",
            "  FutureWarning)\n",
            "/usr/local/lib/python3.6/dist-packages/sklearn/linear_model/logistic.py:432: FutureWarning: Default solver will be changed to 'lbfgs' in 0.22. Specify a solver to silence this warning.\n",
            "  FutureWarning)\n",
            "/usr/local/lib/python3.6/dist-packages/sklearn/linear_model/logistic.py:432: FutureWarning: Default solver will be changed to 'lbfgs' in 0.22. Specify a solver to silence this warning.\n",
            "  FutureWarning)\n",
            "/usr/local/lib/python3.6/dist-packages/sklearn/linear_model/logistic.py:432: FutureWarning: Default solver will be changed to 'lbfgs' in 0.22. Specify a solver to silence this warning.\n",
            "  FutureWarning)\n",
            "/usr/local/lib/python3.6/dist-packages/sklearn/linear_model/logistic.py:432: FutureWarning: Default solver will be changed to 'lbfgs' in 0.22. Specify a solver to silence this warning.\n",
            "  FutureWarning)\n",
            "/usr/local/lib/python3.6/dist-packages/sklearn/linear_model/logistic.py:432: FutureWarning: Default solver will be changed to 'lbfgs' in 0.22. Specify a solver to silence this warning.\n",
            "  FutureWarning)\n",
            "/usr/local/lib/python3.6/dist-packages/sklearn/linear_model/logistic.py:432: FutureWarning: Default solver will be changed to 'lbfgs' in 0.22. Specify a solver to silence this warning.\n",
            "  FutureWarning)\n",
            "/usr/local/lib/python3.6/dist-packages/sklearn/linear_model/logistic.py:432: FutureWarning: Default solver will be changed to 'lbfgs' in 0.22. Specify a solver to silence this warning.\n",
            "  FutureWarning)\n",
            "/usr/local/lib/python3.6/dist-packages/sklearn/linear_model/logistic.py:432: FutureWarning: Default solver will be changed to 'lbfgs' in 0.22. Specify a solver to silence this warning.\n",
            "  FutureWarning)\n",
            "/usr/local/lib/python3.6/dist-packages/sklearn/linear_model/logistic.py:432: FutureWarning: Default solver will be changed to 'lbfgs' in 0.22. Specify a solver to silence this warning.\n",
            "  FutureWarning)\n",
            "/usr/local/lib/python3.6/dist-packages/sklearn/linear_model/logistic.py:432: FutureWarning: Default solver will be changed to 'lbfgs' in 0.22. Specify a solver to silence this warning.\n",
            "  FutureWarning)\n",
            "/usr/local/lib/python3.6/dist-packages/sklearn/linear_model/logistic.py:432: FutureWarning: Default solver will be changed to 'lbfgs' in 0.22. Specify a solver to silence this warning.\n",
            "  FutureWarning)\n",
            "/usr/local/lib/python3.6/dist-packages/sklearn/linear_model/logistic.py:432: FutureWarning: Default solver will be changed to 'lbfgs' in 0.22. Specify a solver to silence this warning.\n",
            "  FutureWarning)\n",
            "/usr/local/lib/python3.6/dist-packages/sklearn/linear_model/logistic.py:432: FutureWarning: Default solver will be changed to 'lbfgs' in 0.22. Specify a solver to silence this warning.\n",
            "  FutureWarning)\n",
            "/usr/local/lib/python3.6/dist-packages/sklearn/linear_model/logistic.py:432: FutureWarning: Default solver will be changed to 'lbfgs' in 0.22. Specify a solver to silence this warning.\n",
            "  FutureWarning)\n",
            "/usr/local/lib/python3.6/dist-packages/sklearn/linear_model/logistic.py:432: FutureWarning: Default solver will be changed to 'lbfgs' in 0.22. Specify a solver to silence this warning.\n",
            "  FutureWarning)\n",
            "/usr/local/lib/python3.6/dist-packages/sklearn/linear_model/logistic.py:432: FutureWarning: Default solver will be changed to 'lbfgs' in 0.22. Specify a solver to silence this warning.\n",
            "  FutureWarning)\n",
            "/usr/local/lib/python3.6/dist-packages/sklearn/linear_model/logistic.py:432: FutureWarning: Default solver will be changed to 'lbfgs' in 0.22. Specify a solver to silence this warning.\n",
            "  FutureWarning)\n",
            "/usr/local/lib/python3.6/dist-packages/sklearn/linear_model/logistic.py:432: FutureWarning: Default solver will be changed to 'lbfgs' in 0.22. Specify a solver to silence this warning.\n",
            "  FutureWarning)\n",
            "/usr/local/lib/python3.6/dist-packages/sklearn/model_selection/_search.py:813: DeprecationWarning: The default of the `iid` parameter will change from True to False in version 0.22 and will be removed in 0.24. This will change numeric results when test-set sizes are unequal.\n",
            "  DeprecationWarning)\n",
            "/usr/local/lib/python3.6/dist-packages/sklearn/linear_model/logistic.py:432: FutureWarning: Default solver will be changed to 'lbfgs' in 0.22. Specify a solver to silence this warning.\n",
            "  FutureWarning)\n",
            "/usr/local/lib/python3.6/dist-packages/sklearn/linear_model/logistic.py:432: FutureWarning: Default solver will be changed to 'lbfgs' in 0.22. Specify a solver to silence this warning.\n",
            "  FutureWarning)\n"
          ],
          "name": "stderr"
        }
      ]
    },
    {
      "cell_type": "markdown",
      "metadata": {
        "id": "3Gx9F1ryDyu_",
        "colab_type": "text"
      },
      "source": [
        "### [Naive Bayes](https://scikit-learn.org/stable/modules/naive_bayes.html)\n",
        "\n",
        "- Explanation: \n",
        " - Supervised algorithm which is based on Bayes Theorem. \n",
        " - A key assumption is that all the features are independent. This is definitely not always the case. Hence, the name \"Naive\".\n",
        " - [Article](https://towardsdatascience.com/unfolding-na%C3%AFve-bayes-from-scratch-2e86dcae4b01) explaining the inner workings of Naive Bayes.\n",
        "- Hyperparameters: \n",
        " - No hyperparameters.\n"
      ]
    },
    {
      "cell_type": "code",
      "metadata": {
        "id": "rEbXzl2hqHc1",
        "colab_type": "code",
        "outputId": "ee7bb7bf-7e4a-4d4a-9a35-6f845941c9d2",
        "colab": {
          "base_uri": "https://localhost:8080/",
          "height": 69
        }
      },
      "source": [
        "nb = GaussianNB() # Instantiating the model\n",
        "\n",
        "# fit the model with training set\n",
        "nb.fit(X_train, y_train)\n",
        "y_log_loss_pred = lr.predict_proba(X_test)\n",
        "y_pred = lr.predict(X_test)\n",
        "\n",
        "#Calculate and print the results metrics\n",
        "logLoss = log_loss(y_test, y_log_loss_pred)\n",
        "accuracy = accuracy_score(y_test, y_pred)\n",
        "f1Score = f1_score(y_test, y_pred)\n",
        "print(\"LogLoss is {0:.3f}\".format(logLoss))\n",
        "print(\"Accuracy is {0:.2f}%\".format(accuracy * 100))\n",
        "print(\"F1-Score is {0:.3f}\".format(f1Score))\n",
        "\n",
        "#Creating a list of results\n",
        "li = []\n",
        "li.append('Naive Bayes')\n",
        "li.append(round(logLoss,4))\n",
        "li.append(round (accuracy,4))\n",
        "li.append(round (f1Score,4))\n",
        "\n",
        "#Appending to main List for Comparison purposes\n",
        "ResultsData.append(li)"
      ],
      "execution_count": 0,
      "outputs": [
        {
          "output_type": "stream",
          "text": [
            "LogLoss is 0.390\n",
            "Accuracy is 87.10%\n",
            "F1-Score is 0.900\n"
          ],
          "name": "stdout"
        }
      ]
    },
    {
      "cell_type": "markdown",
      "metadata": {
        "id": "KuY-kyBXcEUg",
        "colab_type": "text"
      },
      "source": [
        "### [Random Forest](https://scikit-learn.org/stable/modules/generated/sklearn.ensemble.RandomForestClassifier.html)\n",
        "- Explanation: \n",
        " - This is an ensemble method. \n",
        "- Hyperparameters: \n",
        "  -  N_estimators \n",
        "  - Max_depth \n",
        "  - Min_samples_split \n",
        "  - Min_samples_leaf \n",
        "  - Max Features\n",
        "- Feature Importance:\n",
        " - Random Forests in sci-kit learn have a good inbuilt feature called feature importance. This tells us how important each feature was for making the split in the trees. For very large datasets, with several features, to minimise computational speed we may choose only the features with most importance. This may help reduce computational speed with hopefully minimal impact on accuracy."
      ]
    },
    {
      "cell_type": "code",
      "metadata": {
        "id": "u4TGBZ6-6Rl2",
        "colab_type": "code",
        "outputId": "6da02f94-4d7f-45a3-becc-f6afd88d1bde",
        "colab": {
          "base_uri": "https://localhost:8080/",
          "height": 124
        }
      },
      "source": [
        "rfc = RandomForestClassifier() # Instantiating the model\n",
        " \n",
        "# Hyperparameters\n",
        "param_grid = {\"n_estimators\": [10, 18, 22,30, 40, 50, 60, 70],\n",
        "              \"max_depth\": [3, 5],\n",
        "              \"min_samples_split\": [15, 20],\n",
        "              \"min_samples_leaf\": [5, 10, 20],\n",
        "              \"max_leaf_nodes\": [20, 40],\n",
        "              \"min_weight_fraction_leaf\": [0.1]}\n",
        "\n",
        "#GridSearch CV to find the best hyperparameters\n",
        "CV_rfc = GridSearchCV(estimator=rfc, param_grid=param_grid, cv= cv)\n",
        "CV_rfc.fit(X_train,y_train)\n",
        "\n",
        "# This is a dictionary with the hyperparameters which produced the best result.\n",
        "CV_rfc.best_params_\n",
        "\n",
        "rfc = RandomForestClassifier(n_estimators= CV_rfc.best_params_['n_estimators'], \n",
        "                             max_depth= CV_rfc.best_params_['max_depth'],\n",
        "                             max_leaf_nodes = CV_rfc.best_params_['max_leaf_nodes'], \n",
        "                             min_samples_leaf = CV_rfc.best_params_['min_samples_leaf'],\n",
        "                             min_samples_split= CV_rfc.best_params_['min_samples_split'], \n",
        "                             min_weight_fraction_leaf= CV_rfc.best_params_['min_weight_fraction_leaf'])\n",
        "\n",
        "\n",
        "# fit the model with training set\n",
        "rfc.fit(X_train, y_train)\n",
        "y_log_loss_pred = rfc.predict_proba(X_test)\n",
        "y_pred = rfc.predict(X_test)\n",
        "\n",
        "#Calculate and print the results metrics\n",
        "logLoss = log_loss(y_test, y_log_loss_pred)\n",
        "accuracy = accuracy_score(y_test, y_pred)\n",
        "f1Score = f1_score(y_test, y_pred)\n",
        "print(\"LogLoss is {0:.3f}\".format(logLoss))\n",
        "print(\"Accuracy is {0:.2f}%\".format(accuracy * 100))\n",
        "print(\"F1-Score is {0:.3f}\".format(f1Score))\n",
        "\n",
        "#Creating a list of results\n",
        "li = []\n",
        "li.append('Random Forest')\n",
        "li.append(round(logLoss,4))\n",
        "li.append(round (accuracy,4))\n",
        "li.append(round (f1Score,4))\n",
        "\n",
        "#Appending to main List for Comparison purposes\n",
        "ResultsData.append(li)"
      ],
      "execution_count": 0,
      "outputs": [
        {
          "output_type": "stream",
          "text": [
            "LogLoss is 0.394\n",
            "Accuracy is 80.65%\n",
            "F1-Score is 0.850\n"
          ],
          "name": "stdout"
        },
        {
          "output_type": "stream",
          "text": [
            "/usr/local/lib/python3.6/dist-packages/sklearn/model_selection/_search.py:813: DeprecationWarning: The default of the `iid` parameter will change from True to False in version 0.22 and will be removed in 0.24. This will change numeric results when test-set sizes are unequal.\n",
            "  DeprecationWarning)\n"
          ],
          "name": "stderr"
        }
      ]
    },
    {
      "cell_type": "markdown",
      "metadata": {
        "id": "Q7ExMHY6RSmL",
        "colab_type": "text"
      },
      "source": [
        "Feature importances can give you a sense of which of your variables have the most effect in these models. You can use that information to engineer new features, drop out features that look like noise, or just to inform you as you continue building models.\n",
        "\n",
        "\n",
        "Decision trees, and the ensemble methods that are built on them, work by splitting the data into subsets which most heavily belong to one class. The tree will continue to build different subsets until it understands and represents the relationship of the variables with the target. \n",
        "\n",
        "Tree methods calculate their splits by mathematically determining which split will most effectively help distinguish the classes. Sklearn instances of these models have a .feature_importances_ attribute, which returns an array of each feature’s importance in determining the splits."
      ]
    },
    {
      "cell_type": "code",
      "metadata": {
        "id": "6Z4-GMTxPHn3",
        "colab_type": "code",
        "outputId": "f1722ee9-9c8f-4a21-ecab-7732b975d7c0",
        "colab": {
          "base_uri": "https://localhost:8080/",
          "height": 457
        }
      },
      "source": [
        "# all columns except for 'target'\n",
        "feature_importance = rfc.feature_importances_\n",
        "feature_importances = pd.DataFrame(rfc.feature_importances_,\n",
        "                                   index = df.columns[:-1].values,\n",
        "                                   columns=['importance']).sort_values('importance',ascending=False)\n",
        "feature_importances"
      ],
      "execution_count": 0,
      "outputs": [
        {
          "output_type": "execute_result",
          "data": {
            "text/html": [
              "<div>\n",
              "<style scoped>\n",
              "    .dataframe tbody tr th:only-of-type {\n",
              "        vertical-align: middle;\n",
              "    }\n",
              "\n",
              "    .dataframe tbody tr th {\n",
              "        vertical-align: top;\n",
              "    }\n",
              "\n",
              "    .dataframe thead th {\n",
              "        text-align: right;\n",
              "    }\n",
              "</style>\n",
              "<table border=\"1\" class=\"dataframe\">\n",
              "  <thead>\n",
              "    <tr style=\"text-align: right;\">\n",
              "      <th></th>\n",
              "      <th>importance</th>\n",
              "    </tr>\n",
              "  </thead>\n",
              "  <tbody>\n",
              "    <tr>\n",
              "      <th>cp</th>\n",
              "      <td>0.192558</td>\n",
              "    </tr>\n",
              "    <tr>\n",
              "      <th>thal</th>\n",
              "      <td>0.156644</td>\n",
              "    </tr>\n",
              "    <tr>\n",
              "      <th>oldpeak</th>\n",
              "      <td>0.128763</td>\n",
              "    </tr>\n",
              "    <tr>\n",
              "      <th>slope</th>\n",
              "      <td>0.126627</td>\n",
              "    </tr>\n",
              "    <tr>\n",
              "      <th>exang</th>\n",
              "      <td>0.102556</td>\n",
              "    </tr>\n",
              "    <tr>\n",
              "      <th>ca</th>\n",
              "      <td>0.099206</td>\n",
              "    </tr>\n",
              "    <tr>\n",
              "      <th>thalach</th>\n",
              "      <td>0.092281</td>\n",
              "    </tr>\n",
              "    <tr>\n",
              "      <th>age</th>\n",
              "      <td>0.048308</td>\n",
              "    </tr>\n",
              "    <tr>\n",
              "      <th>sex</th>\n",
              "      <td>0.026991</td>\n",
              "    </tr>\n",
              "    <tr>\n",
              "      <th>trestbps</th>\n",
              "      <td>0.015229</td>\n",
              "    </tr>\n",
              "    <tr>\n",
              "      <th>chol</th>\n",
              "      <td>0.009274</td>\n",
              "    </tr>\n",
              "    <tr>\n",
              "      <th>restecg</th>\n",
              "      <td>0.001563</td>\n",
              "    </tr>\n",
              "    <tr>\n",
              "      <th>fbs</th>\n",
              "      <td>0.000000</td>\n",
              "    </tr>\n",
              "  </tbody>\n",
              "</table>\n",
              "</div>"
            ],
            "text/plain": [
              "          importance\n",
              "cp          0.192558\n",
              "thal        0.156644\n",
              "oldpeak     0.128763\n",
              "slope       0.126627\n",
              "exang       0.102556\n",
              "ca          0.099206\n",
              "thalach     0.092281\n",
              "age         0.048308\n",
              "sex         0.026991\n",
              "trestbps    0.015229\n",
              "chol        0.009274\n",
              "restecg     0.001563\n",
              "fbs         0.000000"
            ]
          },
          "metadata": {
            "tags": []
          },
          "execution_count": 38
        }
      ]
    },
    {
      "cell_type": "markdown",
      "metadata": {
        "id": "_ClD5OIEcHnl",
        "colab_type": "text"
      },
      "source": [
        "### [XGBoost](https://xgboost.readthedocs.io/en/latest/)\n",
        "- Explanation: \n",
        " - This is a gradient boosting method, which has proven to be very popular due to its good performance.\n",
        " - [Explanation](https://www.analyticsvidhya.com/blog/2018/09/an-end-to-end-guide-to-understand-the-math-behind-xgboost/) of the math behind XGBoost.\n",
        " - [Examples of Xgboost in Python](https://github.com/dmlc/xgboost/tree/master/demo/guide-python)\n",
        " - There are two ways to access XGBoost. The sklearn api or the native api. \n",
        "\n",
        "- Hyperparameters: \n",
        "\n",
        " - learning_rate: step size shrinkage used to prevent overfitting. Range is [0,1] \n",
        " - max_depth: tree depth allowed during any boosting round. \n",
        "  - subsample: percentage of samples used per tree. \n",
        "  - colsample_bytree: percentage of features used per tree. \n",
        "  - n_estimators: number of trees to build. \n",
        "  - objective: loss function to use, reg:logistic for classification problems with only decision, binary:logistic for classification problems with probability.  \n",
        " - gamma: controls whether a given node will split based on the expected reduction in loss after the split. A higher value leads to fewer splits. Supported only for tree-based learners. \n",
        " - alpha: L1 regularization on leaf weights. \n",
        " - lambda: L2 regularization on leaf weights. \n",
        "\n",
        "\n",
        "\n",
        "\n",
        "\n",
        "\n",
        "\n",
        "\n",
        "\n",
        "\n",
        "\n",
        "\n",
        "https://www.analyticsvidhya.com/blog/2016/03/complete-guide-parameter-tuning-xgboost-with-codes-python/\n",
        "\n",
        "http://www.fantasyfutopia.com/python-for-fantasy-football-random-forest-and-xgboost-hyperparameter-tuning/\n",
        "\n",
        "https://www.dataiku.com/learn/guide/code/python/advanced-xgboost-tuning.html\n",
        "\n"
      ]
    },
    {
      "cell_type": "code",
      "metadata": {
        "id": "1yKr6NL21NEu",
        "colab_type": "code",
        "outputId": "9fdb9cd8-fd69-4657-dc18-4700247990bb",
        "colab": {
          "base_uri": "https://localhost:8080/",
          "height": 52
        }
      },
      "source": [
        "# XGBoost is slightly different to the other classifiers in terms of implementation\n",
        "from xgboost import XGBClassifier\n",
        "model = XGBClassifier()\n",
        "model.fit(X_train, y_train)\n",
        "\n",
        "y_pred = model.predict(X_test)\n",
        "predictions = [round(value) for value in y_pred]\n",
        "\n",
        "accuracy = accuracy_score(y_test, predictions)\n",
        "print(\"Accuracy: %.2f%%\" % (accuracy * 100.0))\n",
        "\n",
        "count_misclassified = (y_test != y_pred).sum()\n",
        "print('Misclassified samples: {}'.format(count_misclassified))"
      ],
      "execution_count": 0,
      "outputs": [
        {
          "output_type": "stream",
          "text": [
            "Accuracy: 87.10%\n",
            "Misclassified samples: 4\n"
          ],
          "name": "stdout"
        }
      ]
    },
    {
      "cell_type": "code",
      "metadata": {
        "id": "ypN04l3BuW8T",
        "colab_type": "code",
        "outputId": "af464352-1136-43ad-b549-eea2205d404c",
        "colab": {
          "base_uri": "https://localhost:8080/",
          "height": 72
        }
      },
      "source": [
        "# https://www.kdnuggets.com/2017/03/simple-xgboost-tutorial-iris-dataset.html\n",
        "# KEY: https://jessesw.com/XG-Boost/\n",
        "\n",
        "dtrain = xgb.DMatrix(X_train, label=y_train)\n",
        "dtest = xgb.DMatrix(X_test, label=y_test)\n",
        "param = {\n",
        "    'max_depth': 3,  # the maximum depth of each tree\n",
        "    'eta': 0.3,  # the training step for each iteration\n",
        "    'silent': 1,  # logging mode - quiet\n",
        "    'objective': 'multi:softprob',  # error evaluation for multiclass training\n",
        "    'num_class': 3}  # the number of classes that exist in this datset\n",
        "num_round = 20  # the number of training iterations\n",
        "\n",
        "bst = xgb.train(param, dtrain, num_round)"
      ],
      "execution_count": 0,
      "outputs": [
        {
          "output_type": "stream",
          "text": [
            "/usr/local/lib/python3.6/dist-packages/xgboost/core.py:587: FutureWarning: Series.base is deprecated and will be removed in a future version\n",
            "  if getattr(data, 'base', None) is not None and \\\n"
          ],
          "name": "stderr"
        }
      ]
    },
    {
      "cell_type": "code",
      "metadata": {
        "id": "VFbrty-Jul05",
        "colab_type": "code",
        "colab": {}
      },
      "source": [
        "params = {\"objective\":\"reg:logistic\",'colsample_bytree': 0.3,'learning_rate': 0.1,\n",
        "                'max_depth': 5, 'alpha': 10}\n",
        "\n",
        "cv_results = xgb.cv(dtrain=data_dmatrix, params=params, nfold=3,\n",
        "                    num_boost_round=50,early_stopping_rounds=10,metrics=\"error\", as_pandas=True, seed=123)"
      ],
      "execution_count": 0,
      "outputs": []
    },
    {
      "cell_type": "code",
      "metadata": {
        "id": "lXPF66zHu_yT",
        "colab_type": "code",
        "outputId": "d868cb07-d716-424e-c68e-80c711a471ee",
        "colab": {
          "base_uri": "https://localhost:8080/",
          "height": 206
        }
      },
      "source": [
        "cv_results.head()"
      ],
      "execution_count": 0,
      "outputs": [
        {
          "output_type": "execute_result",
          "data": {
            "text/html": [
              "<div>\n",
              "<style scoped>\n",
              "    .dataframe tbody tr th:only-of-type {\n",
              "        vertical-align: middle;\n",
              "    }\n",
              "\n",
              "    .dataframe tbody tr th {\n",
              "        vertical-align: top;\n",
              "    }\n",
              "\n",
              "    .dataframe thead th {\n",
              "        text-align: right;\n",
              "    }\n",
              "</style>\n",
              "<table border=\"1\" class=\"dataframe\">\n",
              "  <thead>\n",
              "    <tr style=\"text-align: right;\">\n",
              "      <th></th>\n",
              "      <th>train-error-mean</th>\n",
              "      <th>train-error-std</th>\n",
              "      <th>test-error-mean</th>\n",
              "      <th>test-error-std</th>\n",
              "    </tr>\n",
              "  </thead>\n",
              "  <tbody>\n",
              "    <tr>\n",
              "      <th>0</th>\n",
              "      <td>0.306931</td>\n",
              "      <td>0.018523</td>\n",
              "      <td>0.306931</td>\n",
              "      <td>0.037046</td>\n",
              "    </tr>\n",
              "    <tr>\n",
              "      <th>1</th>\n",
              "      <td>0.270627</td>\n",
              "      <td>0.024364</td>\n",
              "      <td>0.333334</td>\n",
              "      <td>0.012349</td>\n",
              "    </tr>\n",
              "    <tr>\n",
              "      <th>2</th>\n",
              "      <td>0.229373</td>\n",
              "      <td>0.051974</td>\n",
              "      <td>0.283829</td>\n",
              "      <td>0.024697</td>\n",
              "    </tr>\n",
              "    <tr>\n",
              "      <th>3</th>\n",
              "      <td>0.214521</td>\n",
              "      <td>0.022984</td>\n",
              "      <td>0.234324</td>\n",
              "      <td>0.025987</td>\n",
              "    </tr>\n",
              "    <tr>\n",
              "      <th>4</th>\n",
              "      <td>0.183168</td>\n",
              "      <td>0.004042</td>\n",
              "      <td>0.214522</td>\n",
              "      <td>0.049395</td>\n",
              "    </tr>\n",
              "  </tbody>\n",
              "</table>\n",
              "</div>"
            ],
            "text/plain": [
              "   train-error-mean  train-error-std  test-error-mean  test-error-std\n",
              "0          0.306931         0.018523         0.306931        0.037046\n",
              "1          0.270627         0.024364         0.333334        0.012349\n",
              "2          0.229373         0.051974         0.283829        0.024697\n",
              "3          0.214521         0.022984         0.234324        0.025987\n",
              "4          0.183168         0.004042         0.214522        0.049395"
            ]
          },
          "metadata": {
            "tags": []
          },
          "execution_count": 10
        }
      ]
    },
    {
      "cell_type": "code",
      "metadata": {
        "id": "3ThJPaGivJYj",
        "colab_type": "code",
        "outputId": "ebf62367-0613-42f8-f319-9047f87dc7d1",
        "colab": {
          "base_uri": "https://localhost:8080/",
          "height": 269
        }
      },
      "source": [
        "xg_reg = xgb.train(params=params, dtrain=data_dmatrix, num_boost_round=10)\n",
        "xgb.plot_tree(xg_reg,num_trees=0)\n",
        "plt.rcParams['figure.figsize'] = [50, 10]\n",
        "plt.show()"
      ],
      "execution_count": 0,
      "outputs": [
        {
          "output_type": "display_data",
          "data": {
            "image/png": "[encoded data removed]",
            "text/plain": [
              "<Figure size 432x288 with 1 Axes>"
            ]
          },
          "metadata": {
            "tags": []
          }
        }
      ]
    },
    {
      "cell_type": "code",
      "metadata": {
        "id": "xdwIPdk5vVty",
        "colab_type": "code",
        "outputId": "6e0c2513-6ef4-4c78-e458-f0ac3a8fc41b",
        "colab": {
          "base_uri": "https://localhost:8080/",
          "height": 350
        }
      },
      "source": [
        "xgb.plot_importance(xg_reg)\n",
        "plt.rcParams['figure.figsize'] = [2, 2]\n",
        "plt.show()"
      ],
      "execution_count": 0,
      "outputs": [
        {
          "output_type": "display_data",
          "data": {
            "image/png": "[encoded data removed]",
            "text/plain": [
              "<Figure size 360x360 with 1 Axes>"
            ]
          },
          "metadata": {
            "tags": []
          }
        }
      ]
    },
    {
      "cell_type": "markdown",
      "metadata": {
        "id": "2TpfrW8XcTSJ",
        "colab_type": "text"
      },
      "source": [
        "### Principal Component Analysis (PCA)\n",
        "\n",
        "- An extremely popular technique for dimensionality reduction especially when working with large datasets with large number of features.\n",
        "- An [excellent article](https://towardsdatascience.com/a-one-stop-shop-for-principal-component-analysis-5582fb7e0a9c) explaining the intuitive aspects of PCA."
      ]
    },
    {
      "cell_type": "code",
      "metadata": {
        "id": "3i8jMd7cJ4iG",
        "colab_type": "code",
        "colab": {}
      },
      "source": [
        "pca = PCA(0.9)\n",
        "principalComponents = pca.fit_transform(X_train)\n",
        "pca.explained_variance_ratio_\n",
        "pca.n_components_\n",
        "# to keep 95% of the variance, we still need to have 12 of the components.\n",
        "# If I drop to 90% of the variance, we can drop to 11 components\n",
        "# Hence, no dimensionality reduction is done and we keep all features."
      ],
      "execution_count": 0,
      "outputs": []
    },
    {
      "cell_type": "markdown",
      "metadata": {
        "id": "vkISjIbZcZL1",
        "colab_type": "text"
      },
      "source": [
        "### [Neural Networks](http://neuralnetworksanddeeplearning.com/)\n",
        "\n",
        " - Explanation: Deep learning are techniques, supposedly based on human neuron system, which can help improve on machine learning techniques. There are many deep learning libraries including [Pytorch](https://pytorch.org/) and [Tensorflow](https://www.tensorflow.org/) which have inbuilt models. There is a higher level library called [Keras](https://keras.io/) which is a wrapper on top of Tensorflow. \n",
        "All the models here are built using Keras.\n",
        "\n",
        "- Hyperparameters: \n",
        " - number of hidden layers, neurons in each hidden layer\n",
        " - dropout, activation function, batch size, \n",
        " - loss function, optimiser\n",
        " - An extensive [article](https://machinelearningmastery.com/grid-search-hyperparameters-deep-learning-models-python-keras/) which covers all the hyperparameters"
      ]
    },
    {
      "cell_type": "code",
      "metadata": {
        "id": "UohsSVBIxDZD",
        "colab_type": "code",
        "outputId": "d6d52190-5e28-40ef-d56c-a9bacaf61c8c",
        "colab": {
          "base_uri": "https://localhost:8080/",
          "height": 523
        }
      },
      "source": [
        "batch_size = 1\n",
        "epochs = 5 # An epoch is an iteration over the entire data set.\n",
        "\n",
        "# Small Neural Network\n",
        "classifier = Sequential()\n",
        "classifier.add(Dense(12, activation='relu', input_shape=(13,)))\n",
        "# Adding the second hidden layer\n",
        "classifier.add(Dense(activation=\"relu\", units=6))\n",
        "# Adding the output layer\n",
        "classifier.add(Dense(1, activation='sigmoid'))\n",
        "classifier.summary()\n",
        "\n",
        "#Compile Method. There are 3 inputs\n",
        "\n",
        "# Loss Function: This is a binary classification problem. Hence, use binary_crossentropy is used \n",
        "# to calculate the loss function between the actual output and the predicted output.\n",
        "\n",
        "# Optimiser: There are several options, but the recommended one is Adam (Adaptive moment estimation)\n",
        "# Adam is a combination of RMSProp + Momentum.\n",
        "\n",
        "# Metrics: Accuracy is the metric to measure model performance\n",
        "\n",
        "\n",
        "classifier.compile(optimizer = 'adam', loss = 'binary_crossentropy', metrics = ['accuracy'])\n",
        "\n",
        "classifier_train = classifier.fit(X_train, y_train, batch_size=batch_size,\n",
        "                                 epochs=epochs, verbose=1)"
      ],
      "execution_count": 0,
      "outputs": [
        {
          "output_type": "stream",
          "text": [
            "W0714 16:51:11.981240 140153638320000 deprecation.py:323] From /usr/local/lib/python3.6/dist-packages/tensorflow/python/ops/nn_impl.py:180: add_dispatch_support.<locals>.wrapper (from tensorflow.python.ops.array_ops) is deprecated and will be removed in a future version.\n",
            "Instructions for updating:\n",
            "Use tf.where in 2.0, which has the same broadcast rule as np.where\n"
          ],
          "name": "stderr"
        },
        {
          "output_type": "stream",
          "text": [
            "_________________________________________________________________\n",
            "Layer (type)                 Output Shape              Param #   \n",
            "=================================================================\n",
            "dense_10 (Dense)             (None, 12)                168       \n",
            "_________________________________________________________________\n",
            "dense_11 (Dense)             (None, 6)                 78        \n",
            "_________________________________________________________________\n",
            "dense_12 (Dense)             (None, 1)                 7         \n",
            "=================================================================\n",
            "Total params: 253\n",
            "Trainable params: 253\n",
            "Non-trainable params: 0\n",
            "_________________________________________________________________\n"
          ],
          "name": "stdout"
        },
        {
          "output_type": "stream",
          "text": [
            "W0714 16:51:12.226079 140153638320000 deprecation_wrapper.py:119] From /usr/local/lib/python3.6/dist-packages/keras/backend/tensorflow_backend.py:986: The name tf.assign_add is deprecated. Please use tf.compat.v1.assign_add instead.\n",
            "\n"
          ],
          "name": "stderr"
        },
        {
          "output_type": "stream",
          "text": [
            "Epoch 1/5\n",
            "272/272 [==============================] - 4s 14ms/step - loss: 0.6983 - acc: 0.4412\n",
            "Epoch 2/5\n",
            "272/272 [==============================] - 0s 49us/step - loss: 0.6953 - acc: 0.5074\n",
            "Epoch 3/5\n",
            "272/272 [==============================] - 0s 42us/step - loss: 0.6927 - acc: 0.5368\n",
            "Epoch 4/5\n",
            "272/272 [==============================] - 0s 48us/step - loss: 0.6905 - acc: 0.5809\n",
            "Epoch 5/5\n",
            "272/272 [==============================] - 0s 40us/step - loss: 0.6885 - acc: 0.6287\n"
          ],
          "name": "stdout"
        }
      ]
    },
    {
      "cell_type": "code",
      "metadata": {
        "id": "jcx09f6MzEeI",
        "colab_type": "code",
        "outputId": "0b7ff3c5-0a3f-496e-fea9-4ace537428ce",
        "colab": {
          "base_uri": "https://localhost:8080/",
          "height": 52
        }
      },
      "source": [
        "# We calculate the loss & accuracy value for the model in test mode using the evaluate function\n",
        "test_eval = classifier.evaluate(X_test, y_test, verbose=0)\n",
        "print('Test loss:', test_eval[0])\n",
        "print('Test accuracy:', test_eval[1])"
      ],
      "execution_count": 0,
      "outputs": [
        {
          "output_type": "stream",
          "text": [
            "Test loss: 0.681240439414978\n",
            "Test accuracy: 0.8064516186714172\n"
          ],
          "name": "stdout"
        }
      ]
    },
    {
      "cell_type": "markdown",
      "metadata": {
        "id": "biWwJB2V0tnc",
        "colab_type": "text"
      },
      "source": [
        "### Comparison\n",
        "\n",
        "The table below shows the performance of all the different classifiers"
      ]
    },
    {
      "cell_type": "code",
      "metadata": {
        "id": "AjEobTLNa6B4",
        "colab_type": "code",
        "colab": {}
      },
      "source": [
        "#https://datascience.stackexchange.com/questions/26333/convert-a-list-of-lists-into-a-pandas-dataframe\n",
        "data = [['New York Yankees', 'Acevedo Juan', 900000, 'Pitcher'], \n",
        "['New York Yankees', 'Anderson Jason', 300000, 'Pitcher'], \n",
        "['New York Yankees', 'Clemens Roger', 10100000, 'Pitcher'], \n",
        "['New York Yankees', 'Contreras Jose', 5500000, 'Pitcher']]\n",
        "\n",
        "df = pd.DataFrame(data)\n",
        "df.columns = [\"Algorithm\", \"Log Loss\", \"Accuracy\", \"F1 Score\"]\n",
        "df\n",
        "\n"
      ],
      "execution_count": 0,
      "outputs": []
    },
    {
      "cell_type": "code",
      "metadata": {
        "id": "5XRyefvceMtL",
        "colab_type": "code",
        "colab": {}
      },
      "source": [
        "# When comparing F1 data - breaking down into classific etc might be good idea\n",
        "\n",
        "# For more graphical and tabular views one can use \n",
        "# classification report / confusion matrix / ROC curve\n",
        "# but for saving space, such methods were not used\n",
        "\n",
        "#https://machinelearningmastery.com/roc-curves-and-precision-recall-curves-for-classification-in-python/\n"
      ],
      "execution_count": 0,
      "outputs": []
    },
    {
      "cell_type": "markdown",
      "metadata": {
        "id": "hKw6NxDfsd59",
        "colab_type": "text"
      },
      "source": [
        "### Conclusion"
      ]
    },
    {
      "cell_type": "markdown",
      "metadata": {
        "id": "eRREbwZxj5Jx",
        "colab_type": "text"
      },
      "source": [
        "## Summary\n",
        "\n",
        "- Possible feature engineering could be could to try and obtain better accuracy.\n",
        "- A very popular technique for increasing accuracy especially in Kaggle competitions is ensembling. \n",
        "- This is a very small dataset. In order to develop conclusive results, we need to get more data to further test our algorithms."
      ]
    }
  ]
}